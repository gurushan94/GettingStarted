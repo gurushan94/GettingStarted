{
 "cells": [
  {
   "cell_type": "markdown",
   "metadata": {},
   "source": [
    "# Getting Started with Python\n",
    "\n",
    "Lets start at the very beginning. You can use Python as a calculator."
   ]
  },
  {
   "cell_type": "markdown",
   "metadata": {},
   "source": [
    "## A calculator"
   ]
  },
  {
   "cell_type": "code",
   "execution_count": 1,
   "metadata": {},
   "outputs": [
    {
     "data": {
      "text/plain": [
       "2"
      ]
     },
     "execution_count": 1,
     "metadata": {},
     "output_type": "execute_result"
    }
   ],
   "source": [
    "1 + 1"
   ]
  },
  {
   "cell_type": "code",
   "execution_count": 2,
   "metadata": {},
   "outputs": [
    {
     "data": {
      "text/plain": [
       "4"
      ]
     },
     "execution_count": 2,
     "metadata": {},
     "output_type": "execute_result"
    }
   ],
   "source": [
    "5 - 1"
   ]
  },
  {
   "cell_type": "code",
   "execution_count": 3,
   "metadata": {},
   "outputs": [
    {
     "data": {
      "text/plain": [
       "1035"
      ]
     },
     "execution_count": 3,
     "metadata": {},
     "output_type": "execute_result"
    }
   ],
   "source": [
    "23*45"
   ]
  },
  {
   "cell_type": "code",
   "execution_count": 8,
   "metadata": {},
   "outputs": [
    {
     "data": {
      "text/plain": [
       "1024"
      ]
     },
     "execution_count": 8,
     "metadata": {},
     "output_type": "execute_result"
    }
   ],
   "source": [
    "2**10"
   ]
  },
  {
   "cell_type": "code",
   "execution_count": 5,
   "metadata": {},
   "outputs": [
    {
     "data": {
      "text/plain": [
       "2.5"
      ]
     },
     "execution_count": 5,
     "metadata": {},
     "output_type": "execute_result"
    }
   ],
   "source": [
    "5/2"
   ]
  },
  {
   "cell_type": "markdown",
   "metadata": {},
   "source": [
    "And this is integer divison:"
   ]
  },
  {
   "cell_type": "code",
   "execution_count": 6,
   "metadata": {},
   "outputs": [
    {
     "data": {
      "text/plain": [
       "2"
      ]
     },
     "execution_count": 6,
     "metadata": {},
     "output_type": "execute_result"
    }
   ],
   "source": [
    "5//2"
   ]
  },
  {
   "cell_type": "markdown",
   "metadata": {},
   "source": [
    "You can also get the remainder:"
   ]
  },
  {
   "cell_type": "code",
   "execution_count": 7,
   "metadata": {},
   "outputs": [
    {
     "data": {
      "text/plain": [
       "1"
      ]
     },
     "execution_count": 7,
     "metadata": {},
     "output_type": "execute_result"
    }
   ],
   "source": [
    "5 % 2"
   ]
  },
  {
   "cell_type": "markdown",
   "metadata": {
    "colab_type": "text",
    "id": "1iOs0Qd_ah_A"
   },
   "source": [
    "A language is not particularly useful,if you cant *symbolically* assign values in the language to names. This is the concept of *variables*, stolen from algebra.\n",
    "\n",
    "## Variables\n",
    "\n",
    "**Variables are labels for values**\n",
    "\n",
    "- Start with a letter or underscore\n",
    "- Can contain only alpha-numeric characters and underscore\n",
    "- Are case sensitive"
   ]
  },
  {
   "cell_type": "code",
   "execution_count": 9,
   "metadata": {
    "colab": {},
    "colab_type": "code",
    "id": "uX-33Ockarbc"
   },
   "outputs": [
    {
     "name": "stdout",
     "output_type": "stream",
     "text": [
      "hello\n"
     ]
    }
   ],
   "source": [
    "# CANT DO THIS 9variable = \"hello\"\n",
    "# print 9variable\n",
    "\n",
    "Var = \"hello\"\n",
    "#print (var) # will give an error\n",
    "print (Var)"
   ]
  },
  {
   "cell_type": "markdown",
   "metadata": {},
   "source": [
    "What happened above? In the computer's memory, a location was found, and then filled with the word \"hello\". Then a variable `Var` was created and was used to label this memory location.\n",
    "\n",
    "![](images/labelmem.jpg)"
   ]
  },
  {
   "cell_type": "markdown",
   "metadata": {
    "colab_type": "text",
    "id": "i883lrL-au-6"
   },
   "source": [
    "### Variable Data Types\n",
    "\n",
    "  - Integer\n",
    "  - Float\n",
    "  - String\n",
    "  - Boolean\n",
    "\n",
    "(More data types are available but not necessary now)"
   ]
  },
  {
   "cell_type": "code",
   "execution_count": 10,
   "metadata": {
    "colab": {},
    "colab_type": "code",
    "id": "PXUOcyCYa0B4"
   },
   "outputs": [
    {
     "name": "stdout",
     "output_type": "stream",
     "text": [
      "7\n",
      "The data type is: <class 'int'>\n"
     ]
    }
   ],
   "source": [
    "#To identify the data type of a variable in python we use the built-in function type()\n",
    "\n",
    "var = 7\n",
    "print (var)\n",
    "print(\"The data type is:\", type(var))"
   ]
  },
  {
   "cell_type": "code",
   "execution_count": 11,
   "metadata": {
    "colab": {},
    "colab_type": "code",
    "id": "gxlREmada7xz"
   },
   "outputs": [
    {
     "name": "stdout",
     "output_type": "stream",
     "text": [
      "7.01\n",
      "The data type is: <class 'float'>\n"
     ]
    }
   ],
   "source": [
    "var = 7.01\n",
    "print (var)\n",
    "print(\"The data type is:\", type(var))"
   ]
  },
  {
   "cell_type": "code",
   "execution_count": 12,
   "metadata": {
    "colab": {},
    "colab_type": "code",
    "id": "8KC5JyfZa93t"
   },
   "outputs": [
    {
     "name": "stdout",
     "output_type": "stream",
     "text": [
      "Hello World!\n",
      "The data type is: <class 'str'>\n"
     ]
    }
   ],
   "source": [
    "var = \"Hello World!\"\n",
    "print (var)\n",
    "print(\"The data type is:\", type(var))"
   ]
  },
  {
   "cell_type": "code",
   "execution_count": 13,
   "metadata": {
    "colab": {},
    "colab_type": "code",
    "id": "llCMJzpcbAAp"
   },
   "outputs": [
    {
     "name": "stdout",
     "output_type": "stream",
     "text": [
      "True\n",
      "The data type is: <class 'bool'>\n"
     ]
    }
   ],
   "source": [
    "var = True\n",
    "print (var)\n",
    "print(\"The data type is:\", type(var))"
   ]
  },
  {
   "cell_type": "markdown",
   "metadata": {},
   "source": [
    "A variable is literally a label. You can think of it as a post-it, or sticky note, or a *pointer*. Do not think of it as a box in which a value is stored.\n",
    "\n",
    "In the above, we just take the variable `var` and point it to different pieces of memory holding different values. This is perhaps more clear from a diagram.\n",
    "\n",
    "![](images/labelmemmany.jpg)"
   ]
  },
  {
   "cell_type": "markdown",
   "metadata": {
    "colab_type": "text",
    "id": "R7rxdurPbFOE"
   },
   "source": [
    "## Even More operators\n",
    "\n",
    "Besides the usual \"operators\" for values we profiled at the top, you can also use the following:\n",
    "\n",
    "1. Boolean Expressions: returns True or False \n",
    "2. Relational operators: !=, ==, <=, <, >, >= \n",
    "3. Logical Operators: and, or, not\n",
    "\n",
    "You can use a variable, wherever you had used a value:"
   ]
  },
  {
   "cell_type": "code",
   "execution_count": 15,
   "metadata": {
    "colab": {},
    "colab_type": "code",
    "id": "ecFxNLCybLTC"
   },
   "outputs": [],
   "source": [
    "# Arithmetic Operators\n",
    "var1 = 5\n",
    "var2 = 3\n",
    "\n",
    "print (var1 - var2)\n",
    "print (var1*var2)\n",
    "\n",
    "var1 = \"hello\"\n",
    "var2 = \"world\"\n",
    "var3 = \"!\"\n",
    "print (var1+\" \"+var2+var3)\n",
    "\n",
    "# Modulus\n",
    "a = 5\n",
    "b = 2\n",
    "c = a%b\n",
    "print (c)"
   ]
  },
  {
   "cell_type": "markdown",
   "metadata": {},
   "source": [
    "In any programming language, to be able to do something useful, you need to be able to evaluate the \"truthiness\" of expressions."
   ]
  },
  {
   "cell_type": "code",
   "execution_count": 18,
   "metadata": {
    "colab": {},
    "colab_type": "code",
    "id": "ecFxNLCybLTC"
   },
   "outputs": [
    {
     "name": "stdout",
     "output_type": "stream",
     "text": [
      "False\n"
     ]
    }
   ],
   "source": [
    "# Relational Operators & Boolean expressions\n",
    "var1 = 5\n",
    "var2 = 3\n",
    "print (var1 < var2)"
   ]
  },
  {
   "cell_type": "markdown",
   "metadata": {},
   "source": [
    "Such comparisons can be used to make decisions, as we shall soon see."
   ]
  },
  {
   "cell_type": "code",
   "execution_count": 22,
   "metadata": {
    "colab": {},
    "colab_type": "code",
    "id": "ecFxNLCybLTC"
   },
   "outputs": [
    {
     "name": "stdout",
     "output_type": "stream",
     "text": [
      "False\n",
      "True\n"
     ]
    }
   ],
   "source": [
    "a = \"hgi\"\n",
    "b = \"hello\"\n",
    "c = \"hi\"\n",
    "d = \"hello\"\n",
    "print (a==c)\n",
    "print (b==d)"
   ]
  },
  {
   "cell_type": "markdown",
   "metadata": {},
   "source": [
    "The first comparison compares the contents of the memory for `a` and `c` and finds that both are different, giving us `False`. Conversely, the second comparison gives us `True`. We can utilize such comparisons in \"decision statements\"."
   ]
  },
  {
   "cell_type": "markdown",
   "metadata": {
    "colab_type": "text",
    "id": "5at6TQF3bsw7"
   },
   "source": [
    "## Conditional Statements and Python Indentation\n",
    "\n",
    "If you have the ability to test something for \"truthiness\", you can use it to make a decision."
   ]
  },
  {
   "cell_type": "code",
   "execution_count": 23,
   "metadata": {
    "colab": {},
    "colab_type": "code",
    "id": "VUZf9DZ3bzJa"
   },
   "outputs": [
    {
     "name": "stdout",
     "output_type": "stream",
     "text": [
      "First variable is lesser than the second variable\n"
     ]
    }
   ],
   "source": [
    "#Simple If conditions\n",
    "var1 = 5\n",
    "var2 = 10\n",
    "\n",
    "if var1 == var2:\n",
    "    print(\"The values are equal\")\n",
    "if var1 < var2:\n",
    "    print(\"First variable is lesser than the second variable\")\n",
    "if var1 > var2:\n",
    "    print(\"Second variable is lesser than the first variable\")"
   ]
  },
  {
   "cell_type": "markdown",
   "metadata": {},
   "source": [
    "Notice how python dispenses with brackets, **replacing them by a colon and an indented next line**. The indentation tells us that the code below runs when the condition holds. Python uses this **colon-indentation** for many things, such as *for loops* for iteration and loops in general, for conditionals, for function and class definition, etc."
   ]
  },
  {
   "cell_type": "markdown",
   "metadata": {},
   "source": [
    "This conditional is such a common idiom that there is a better way to write it."
   ]
  },
  {
   "cell_type": "code",
   "execution_count": 24,
   "metadata": {
    "colab": {},
    "colab_type": "code",
    "id": "VsRHt8nKb1xv"
   },
   "outputs": [
    {
     "name": "stdout",
     "output_type": "stream",
     "text": [
      "First variable is lesser than the second variable\n"
     ]
    }
   ],
   "source": [
    "#An alternative way to code the previous (If-Else)\n",
    "var1 = 5\n",
    "var2 = 10\n",
    "\n",
    "if (var1 == var2):\n",
    "    print(\"The values are equal\")\n",
    "elif (var1 < var2):\n",
    "    print(\"First variable is lesser than the second variable\")  \n",
    "else:\n",
    "    print(\"Second variable is lesser than the first variable\")"
   ]
  },
  {
   "cell_type": "markdown",
   "metadata": {},
   "source": [
    "Notice the brackets around the conditional. These are optional but can sometimes help disambiguate. You can combine multiple such statements."
   ]
  },
  {
   "cell_type": "code",
   "execution_count": 25,
   "metadata": {
    "colab": {},
    "colab_type": "code",
    "id": "5i9oEH0sb7qw"
   },
   "outputs": [
    {
     "name": "stdout",
     "output_type": "stream",
     "text": [
      "Less than\n"
     ]
    }
   ],
   "source": [
    "#Nested If\n",
    "var1 = 5\n",
    "var2 = 10\n",
    "var3 = 15\n",
    "\n",
    "if (var1 == var2):\n",
    "  print (\"The values are equal\")\n",
    "\n",
    "elif (var1 < var2):\n",
    "    if (var2 == var3):\n",
    "        print (\"Equal \")\n",
    "    elif (var2 < var3):\n",
    "        print (\"Less than\")\n",
    "    else:\n",
    "        print (\"Greater than\")\n",
    "\n",
    "else:\n",
    "    print (\"Did not satisfy any previous conditions\")\n"
   ]
  },
  {
   "cell_type": "markdown",
   "metadata": {
    "colab_type": "text",
    "id": "NrzmeT7EcAZB"
   },
   "source": [
    "## A Simple Calculator\n",
    "\n",
    "Here is a fun little calculator which exercises what you have learnt so far.\n",
    "\n",
    "It has only 4 operations - Addition, Subtraction, Multiplication and Divison"
   ]
  },
  {
   "cell_type": "code",
   "execution_count": 27,
   "metadata": {},
   "outputs": [
    {
     "name": "stdout",
     "output_type": "stream",
     "text": [
      "Select operation\n",
      "\n",
      "1.Addition\n",
      "2.Subtraction\n",
      "3.Multiplication\n",
      "4.Division\n"
     ]
    },
    {
     "name": "stdin",
     "output_type": "stream",
     "text": [
      "\n",
      "Enter choice(1/2/3/4):  1\n",
      "\n",
      "Enter first number:  1\n",
      "\n",
      "Enter second number:  1\n"
     ]
    },
    {
     "name": "stdout",
     "output_type": "stream",
     "text": [
      "1.0 + 1.0 = 2.0\n"
     ]
    }
   ],
   "source": [
    "print(\"Select operation\\n\")\n",
    "print(\"1.Addition\")\n",
    "print(\"2.Subtraction\")\n",
    "print(\"3.Multiplication\")\n",
    "print(\"4.Division\")\n",
    "\n",
    "# Something NEW: Take input from the user \n",
    "choice = input(\"\\nEnter choice(1/2/3/4): \")\n",
    "\n",
    "# We convert the input to a floating-pount(or real) number.\n",
    "\n",
    "num1 = float(input(\"\\nEnter first number: \"))\n",
    "num2 = float(input(\"\\nEnter second number: \"))\n",
    "\n",
    "if choice == '1':\n",
    "  print(num1,\"+\",num2,\"=\", num1+num2)\n",
    "elif choice == '2':\n",
    "  print(num1,\"-\",num2,\"=\", num1-num2)\n",
    "elif choice == '3':\n",
    "  print(num1,\"*\",num2,\"=\", num1*num2)\n",
    "elif choice == '4': # could use else \n",
    "  if(num2==0):\n",
    "    print (\"Invalid input\")\n",
    "  else:\n",
    "    print(num1,\"/\",num2,\"=\", num1/num2)"
   ]
  }
 ],
 "metadata": {
  "colab": {
   "collapsed_sections": [],
   "name": "L1 - lec1.ipynb",
   "provenance": []
  },
  "kernelspec": {
   "display_name": "Python 3",
   "language": "python",
   "name": "python3"
  },
  "language_info": {
   "codemirror_mode": {
    "name": "ipython",
    "version": 3
   },
   "file_extension": ".py",
   "mimetype": "text/x-python",
   "name": "python",
   "nbconvert_exporter": "python",
   "pygments_lexer": "ipython3",
   "version": "3.6.8"
  }
 },
 "nbformat": 4,
 "nbformat_minor": 2
}
